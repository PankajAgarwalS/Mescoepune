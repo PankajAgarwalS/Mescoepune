{
  "nbformat": 4,
  "nbformat_minor": 0,
  "metadata": {
    "colab": {
      "provenance": [],
      "authorship_tag": "ABX9TyOIVV7+cUuxO/QYs4h/wEoz",
      "include_colab_link": true
    },
    "kernelspec": {
      "name": "python3",
      "display_name": "Python 3"
    },
    "language_info": {
      "name": "python"
    }
  },
  "cells": [
    {
      "cell_type": "markdown",
      "metadata": {
        "id": "view-in-github",
        "colab_type": "text"
      },
      "source": [
        "<a href=\"https://colab.research.google.com/github/PankajAgarwalS/SE-COMP-SEM-5/blob/main/CS1.ipynb\" target=\"_parent\"><img src=\"https://colab.research.google.com/assets/colab-badge.svg\" alt=\"Open In Colab\"/></a>"
      ]
    },
    {
      "cell_type": "code",
      "execution_count": null,
      "metadata": {
        "id": "b10j1nRoMDNA"
      },
      "outputs": [],
      "source": [
        "import seaborn as sns\n",
        "print(sns.get_dataset_names())"
      ]
    },
    {
      "cell_type": "code",
      "source": [
        "import pandas as pd"
      ],
      "metadata": {
        "id": "kp2xWcD5MxyQ"
      },
      "execution_count": null,
      "outputs": []
    },
    {
      "cell_type": "code",
      "source": [
        "from seaborn.utils import get_dataset_names\n",
        "db=sns.load_dataset('titanic')"
      ],
      "metadata": {
        "id": "AXKSVd8QMyK8"
      },
      "execution_count": null,
      "outputs": []
    },
    {
      "cell_type": "code",
      "source": [
        "print(db.head(10))"
      ],
      "metadata": {
        "id": "jc5V7EIVMyUj"
      },
      "execution_count": null,
      "outputs": []
    },
    {
      "cell_type": "code",
      "source": [
        "print(db.tail())"
      ],
      "metadata": {
        "id": "n2YQg2D_MyXz"
      },
      "execution_count": null,
      "outputs": []
    },
    {
      "cell_type": "code",
      "source": [
        "print(db.sample(5))"
      ],
      "metadata": {
        "id": "iV1Mh2TnMybC"
      },
      "execution_count": null,
      "outputs": []
    },
    {
      "cell_type": "code",
      "source": [
        "print(db.info())"
      ],
      "metadata": {
        "id": "hvRezQ7eMyeW"
      },
      "execution_count": null,
      "outputs": []
    },
    {
      "cell_type": "code",
      "source": [
        "print(db.describe())"
      ],
      "metadata": {
        "id": "JrrkbKjtMykt"
      },
      "execution_count": null,
      "outputs": []
    }
  ]
}